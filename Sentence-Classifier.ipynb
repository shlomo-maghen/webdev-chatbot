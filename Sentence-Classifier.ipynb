{
 "cells": [
  {
   "cell_type": "code",
   "execution_count": 152,
   "metadata": {
    "collapsed": false
   },
   "outputs": [],
   "source": [
    "from sklearn.feature_extraction.text import TfidfTransformer\n",
    "from sklearn.feature_extraction.text import CountVectorizer\n",
    "from sklearn.naive_bayes import MultinomialNB\n",
    "from sklearn.linear_model import SGDClassifier\n",
    "from sklearn.pipeline import Pipeline\n",
    "from sklearn.grid_search import GridSearchCV\n",
    "from sklearn.svm import LinearSVC\n",
    "from sklearn import metrics\n",
    "from sklearn.cross_validation import train_test_split\n",
    "import numpy as np\n",
    "import pandas as pd\n",
    "import random\n",
    "import cStringIO\n",
    "import time\n",
    "import os\n",
    "\n",
    "\n"
   ]
  },
  {
   "cell_type": "code",
   "execution_count": 157,
   "metadata": {
    "collapsed": false
   },
   "outputs": [],
   "source": [
    "categories = ['Title','Image','Map', 'Video', 'Link', 'Paragraph', 'Button']\n",
    "values = [0, 1, 2, 3, 4, 5, 6]\n",
    "dictionary = dict(zip(values,categories))\n",
    "\n",
    "df = pd.read_excel('testfile.xlsx')\n",
    "X_train, X_test, y_train, y_test = train_test_split(df.drop('Label', 1), df['Label'], test_size=0.2,\n",
    "                                                        random_state=42)\n",
    "\n",
    "#DataTest\n",
    "documents = [s.encode('utf-8').strip() for s in X_train['Sentence']]\n",
    "\n",
    "#Training Set\n",
    "document = [s.encode('utf-8').strip() for s in X_test['Sentence']]\n"
   ]
  },
  {
   "cell_type": "code",
   "execution_count": 158,
   "metadata": {
    "collapsed": false
   },
   "outputs": [],
   "source": [
    "#Like a list of Documents to apply tfidf\n",
    "docs_data = [cStringIO.StringIO(x) for x in documents]\n",
    "\n",
    "#CountVectorizer\n",
    "count_vect = CountVectorizer(input=\"file\")\n",
    "X_train_counts = count_vect.fit_transform(docs_data)\n",
    "\n",
    "#TFIDF\n",
    "tfidf_transformer = TfidfTransformer()\n",
    "X_train_tfidf = tfidf_transformer.fit_transform(X_train_counts)\n",
    "\n"
   ]
  },
  {
   "cell_type": "code",
   "execution_count": 159,
   "metadata": {
    "collapsed": false
   },
   "outputs": [
    {
     "name": "stdout",
     "output_type": "stream",
     "text": [
      "0.88\n",
      "[3 0 0 6 1 3 0 2 3 2 3 1 0 1 5 1 0 3 2 2 0 5 0 3 3 2 4 4 4 1 0 2 1 1 6 2 1\n",
      " 0 5 5 3 6 0 4 2 2 1 1 0 1 4 0 6 3 3 1 1 0 1 1 2 3 1 1 3 1 4 3 3 1 2 3 6 6\n",
      " 1]\n"
     ]
    }
   ],
   "source": [
    "#SGDClassifier(loss='hinge', penalty='l2',alpha=1e-3, n_iter=5,epsilon=0.1, random_state=42))\n",
    "#Linear SVC and Pipeline\n",
    "text_clf = Pipeline([('vect', CountVectorizer()),\n",
    "                      ('tfidf', TfidfTransformer()),\n",
    "                      ('clf', LinearSVC(loss='squared_hinge',dual=False, tol=1e-3)),])\n",
    "    \n",
    "# text_clf.fit(documents, y_train)\n",
    "# predicted = text_clf.predict(document)\n",
    "\n",
    "#GridSearch\n",
    "parameters = {'vect__ngram_range': [(1, 1), (1, 2)],'tfidf__use_idf': (True, False),}\n",
    "gs_clf = GridSearchCV(text_clf, parameters, n_jobs=-1)\n",
    "gs_clf.fit(documents, y_train)\n",
    "predicted = gs_clf.predict(document)\n",
    "\n",
    "print (np.mean(predicted == y_test))\n",
    "print(predicted)\n",
    "#predicted = [dictionary[k] for k in predicted]\n",
    "\n",
    "\n",
    "\n"
   ]
  },
  {
   "cell_type": "code",
   "execution_count": null,
   "metadata": {
    "collapsed": true
   },
   "outputs": [],
   "source": []
  }
 ],
 "metadata": {
  "anaconda-cloud": {},
  "kernelspec": {
   "display_name": "Python [conda root]",
   "language": "python",
   "name": "conda-root-py"
  },
  "language_info": {
   "codemirror_mode": {
    "name": "ipython",
    "version": 2
   },
   "file_extension": ".py",
   "mimetype": "text/x-python",
   "name": "python",
   "nbconvert_exporter": "python",
   "pygments_lexer": "ipython2",
   "version": "2.7.12"
  }
 },
 "nbformat": 4,
 "nbformat_minor": 1
}
